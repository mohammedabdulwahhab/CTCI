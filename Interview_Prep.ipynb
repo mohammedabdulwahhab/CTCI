{
 "cells": [
  {
   "cell_type": "markdown",
   "metadata": {},
   "source": [
    "## String & Array Problems\n",
    "\n",
    "### Pointers\n",
    "\n",
    "- Always ask for specific rules regarding spacing and cases\n",
    "- A lot of comparisons can be made simpler by sorting\n",
    "- If you are doing any sort of 'in-place' string manipulation it is especially useful to iterate and edit from the back\n",
    "\n",
    "\n",
    "#### 1. isUnique(str) \n",
    "\n",
    "- Determine if a string is made of all unique characters\n",
    "- Develop 2 approaches and discuss tradeoffs"
   ]
  },
  {
   "cell_type": "code",
   "execution_count": 1,
   "metadata": {},
   "outputs": [],
   "source": [
    "def is_unique( str ):\n",
    "    # Time: O (N) Space: O (N)\n",
    "    \n",
    "    # iterate through string\n",
    "    char_counts = {}\n",
    "    \n",
    "    for char in str:\n",
    "        if (char in char_counts):\n",
    "            return False\n",
    "        else:\n",
    "            char_counts[ char ] = True\n",
    "    return True\n",
    "\n",
    "def is_unique_( str ):\n",
    "    # Time: O (N log N) Space: O (1)\n",
    "    \n",
    "    # Sorts the string\n",
    "    str = ''.join( sorted( str ) )  \n",
    "    prevChar = ''\n",
    "    \n",
    "    for char in str:\n",
    "        if (char is prevChar):\n",
    "            return False\n",
    "        prevChar = char            \n",
    "    return True"
   ]
  },
  {
   "cell_type": "markdown",
   "metadata": {},
   "source": [
    "**Tests:**"
   ]
  },
  {
   "cell_type": "code",
   "execution_count": 2,
   "metadata": {},
   "outputs": [],
   "source": [
    "assert(is_unique('aabcdb') is False)\n",
    "assert(is_unique_('aabcdb') is False)\n",
    "assert(is_unique_('a') is True)"
   ]
  },
  {
   "cell_type": "markdown",
   "metadata": {},
   "source": [
    "#### 2. Check Permutations\n",
    "\n",
    "- Check if one string is a permutation of the other\n",
    "- Approaches\n",
    "    - 1. Sort then compare then compare strings directly\n",
    "    - 2. Use char counts then compare the char coutns"
   ]
  },
  {
   "cell_type": "code",
   "execution_count": 58,
   "metadata": {},
   "outputs": [],
   "source": [
    "def check_p( str1, str2 ):\n",
    "    return ''.join(sorted(str1)) == ''.join(sorted(str2)) "
   ]
  },
  {
   "cell_type": "markdown",
   "metadata": {},
   "source": [
    "**Tests:**"
   ]
  },
  {
   "cell_type": "code",
   "execution_count": 59,
   "metadata": {},
   "outputs": [],
   "source": [
    "assert(check_p('ba','ab') is True)"
   ]
  },
  {
   "cell_type": "markdown",
   "metadata": {},
   "source": [
    "#### 3. URLify\n",
    "\n",
    "- Add %20 where-ever you see a space in the string in place/Use a char array\n",
    "- Approaches\n",
    "    - 1. Reconstruct the word in a new order n array (Extra space is used)\n",
    "    - 2. Run two passes 1) Count the number of spaces 2) Copy n[i - 2]"
   ]
  },
  {
   "cell_type": "code",
   "execution_count": 84,
   "metadata": {},
   "outputs": [],
   "source": [
    "def URLify( stri):\n",
    "    # Count the number of spaces in the striing\n",
    "    space_count = stri.strip().count(' ')\n",
    "    stri = list( stri )\n",
    "    # Iterate through the list from the back\n",
    "    offset = 2 * space_count\n",
    "    # Iterator variable\n",
    "    i = len(stri) - 1\n",
    "    \n",
    "    while(i >= 0):\n",
    "        # While we can reach offset elements back without getting an out of bounds exception\n",
    "        reached_element = stri[ i - offset ]\n",
    "        if (reached_element == ' '):\n",
    "            # Reduce the offset for subsequent chars\n",
    "            offset = offset - 2\n",
    "            stri[ i ] = '0'\n",
    "            stri[ i - 1 ] = '2'\n",
    "            stri[ i - 2 ] = '%'\n",
    "            i -= 3\n",
    "        else:\n",
    "            stri[ i ] = reached_element\n",
    "            i -= 1\n",
    "    return ''.join(stri)\n",
    "    \n",
    "        "
   ]
  },
  {
   "cell_type": "markdown",
   "metadata": {},
   "source": [
    "**Tests**"
   ]
  },
  {
   "cell_type": "code",
   "execution_count": 85,
   "metadata": {},
   "outputs": [
    {
     "data": {
      "text/plain": [
       "'Mr%20John%20Smith'"
      ]
     },
     "execution_count": 85,
     "metadata": {},
     "output_type": "execute_result"
    }
   ],
   "source": [
    "URLify( 'Mr John Smith    ')"
   ]
  },
  {
   "cell_type": "markdown",
   "metadata": {},
   "source": [
    "#### 4. Palindrome Check\n",
    "\n",
    "- Check if the current string is a permutation of a palindrome\n",
    "- Observations:\n",
    "    - Only one odd element can be in a palindrome\n",
    "- Approaches\n",
    "    - 1. Use a hashmap to count the number of odd elements, can do this in one pass using an odd counter"
   ]
  },
  {
   "cell_type": "code",
   "execution_count": 100,
   "metadata": {},
   "outputs": [],
   "source": [
    "def palindrome_check( string ):\n",
    "    # Time: O(N) Space: O(N)\n",
    "    # Our odd counter\n",
    "    odd_count = 0\n",
    "    char_count = {}\n",
    "    for char in string:\n",
    "        # if char is in the char_count\n",
    "        if char in char_count:\n",
    "            # Add 1 to the char_count\n",
    "            char_count[ char ] +=  1\n",
    "        else:\n",
    "            char_count[ char ] = 1\n",
    "        \n",
    "        # increment or decrement odd_count\n",
    "        if ( char_count[ char ] % 2 ) is 0:\n",
    "            odd_count -= 1\n",
    "        else:\n",
    "            odd_count += 1\n",
    "    \n",
    "    return not ( odd_count > 1 )\n",
    "            \n",
    "            \n",
    "    "
   ]
  },
  {
   "cell_type": "markdown",
   "metadata": {},
   "source": [
    "**Tests**"
   ]
  },
  {
   "cell_type": "code",
   "execution_count": 101,
   "metadata": {},
   "outputs": [],
   "source": [
    "assert( palindrome_check('ab') == False )\n",
    "assert( palindrome_check('bba') == True )\n",
    "assert( palindrome_check('') == True )\n",
    "assert( palindrome_check('cbab') == False )"
   ]
  },
  {
   "cell_type": "markdown",
   "metadata": {},
   "source": [
    "#### 5. One Away\n",
    "\n",
    "- Check if two strings are different from one element (replace, insert, delete)\n",
    "- Observations:\n",
    "    - We use the concept of a mistake and remove the element from the longer string\n",
    "- Approaches\n",
    "    - Compare chars, char by char, del if not equal and increment mistake counter"
   ]
  },
  {
   "cell_type": "code",
   "execution_count": 109,
   "metadata": {},
   "outputs": [],
   "source": [
    "def one_away( str1, str2 ):\n",
    "    \n",
    "    # Convert both strings into arrays\n",
    "    str1 = list( str1 )\n",
    "    str2 = list( str2 )\n",
    "    \n",
    "    # If the lengths are different by more than one we have a problem\n",
    "    if abs(  len( str1 ) - len( str2) ) > 1:\n",
    "        return False\n",
    "    \n",
    "    same_length = len( str1 ) is len( str2)\n",
    "    longer_array = str1 if len( str1 ) > len( str2 ) else str2\n",
    "    \n",
    "    # Index and numer of mistakes\n",
    "    i = 0\n",
    "    mistakes = 0\n",
    "    \n",
    "    while( i < min( len( str1 ), len( str2 ) ) ):\n",
    "        if str1[ i ] != str2[ i ]:\n",
    "            # Oops we've found a mistake\n",
    "            # Increment mistakes counter\n",
    "            mistakes += 1\n",
    "            # Delete mistake from both arrays\n",
    "            if (same_length):\n",
    "                del str1[i]\n",
    "                del str2[i]\n",
    "            else:\n",
    "                del longer_array[i]\n",
    "            \n",
    "            # Compare again\n",
    "            if str1[ i ] != str2[ i ]:\n",
    "                mistakes += 1\n",
    "                \n",
    "        # Increment our index\n",
    "        i += 1\n",
    "        if mistakes > 1:\n",
    "            return False\n",
    "    return True\n",
    "        \n",
    "            \n",
    "        \n",
    "    \n",
    "    "
   ]
  },
  {
   "cell_type": "markdown",
   "metadata": {},
   "source": [
    "**Tests**"
   ]
  },
  {
   "cell_type": "code",
   "execution_count": 116,
   "metadata": {},
   "outputs": [],
   "source": [
    "assert( one_away( 'pales', 'pale' ) == True)\n",
    "assert( one_away( 'pale', 'bale' ) == True)\n",
    "assert( one_away( 'pale', 'bake' ) == False)"
   ]
  },
  {
   "cell_type": "markdown",
   "metadata": {},
   "source": [
    "#### 6. String Compression\n",
    "- Compress the string and return only if compression saves any bytes\n",
    "- Approaches:\n",
    "    - **Approach 1**\n",
    "        - Iterate from the back\n",
    "        - Check next\n",
    "        - If same, del current\n",
    "        - If not, insert count at position 1 before"
   ]
  },
  {
   "cell_type": "code",
   "execution_count": 119,
   "metadata": {},
   "outputs": [],
   "source": [
    "def compress_string( string ):\n",
    "    string = list( string )\n",
    "    char_count = 0\n",
    "    # Iterate backwards cuz we will be doing some deleteions\n",
    "    for i in range( len( string ) - 1, -1, -1 ):\n",
    "        \n",
    "        char_count += 1\n",
    "        # Warning!!! index out of bounds exception\n",
    "        if ( i == 0 ):\n",
    "            next_char = ''\n",
    "        else:\n",
    "            next_char = string[ i - 1 ]\n",
    "\n",
    "        current_char = string[i]\n",
    "        \n",
    "        # if next_char is different\n",
    "        if ( next_char is not current_char ):\n",
    "            # Append count at one position after\n",
    "            string.insert( i + 1, str( char_count ) )\n",
    "            # Reset the char_count to 0\n",
    "            char_count = 0\n",
    "        # Else if this is the same character as the next\n",
    "        else:\n",
    "            # This only affects indices to the right of i, which is fine\n",
    "            del string[i]\n",
    "    \n",
    "    return ''.join(string)\n",
    "            \n",
    "            "
   ]
  },
  {
   "cell_type": "markdown",
   "metadata": {},
   "source": [
    "**Tests**"
   ]
  },
  {
   "cell_type": "code",
   "execution_count": 123,
   "metadata": {},
   "outputs": [],
   "source": [
    "assert( compress_string('aabccccca') == 'a2b1c5a1' )\n",
    "# Works like a charm"
   ]
  },
  {
   "cell_type": "markdown",
   "metadata": {},
   "source": [
    "#### 7. Rotate Array\n",
    "- Rotate an array k elements\n",
    "- Approaches:\n",
    "    - **Approach 1**\n",
    "        - Follow tracks around the array"
   ]
  },
  {
   "cell_type": "code",
   "execution_count": 22,
   "metadata": {},
   "outputs": [],
   "source": [
    "def rotate_array( list, k ):\n",
    "    \n",
    "    # Keeps track of which index the runner starts at\n",
    "    track_start = 0\n",
    "    \n",
    "    # Useful to see if the runner has re-arrived at the track start\n",
    "    track_start_visited = False\n",
    "    \n",
    "    # Index of where the runner is in the track\n",
    "    runner = track_start\n",
    "    \n",
    "    # If the runner has visited all the elements in the array, we know he has no more work left\n",
    "    runner_visits = 0\n",
    "    \n",
    "    # Index the runner last visited\n",
    "    runner_last_visited = 0\n",
    "    \n",
    "    while( runner_visits < len(list) ):\n",
    "        \n",
    "        # Normalize the runner\n",
    "        runner = runner % len(list)\n",
    "        \n",
    "        # If the runner is at the track start\n",
    "        if (runner == track_start):\n",
    "            # He is returning to the track start\n",
    "            if (track_start_visited):\n",
    "                track_start += 1\n",
    "                track_start_visited = False\n",
    "                runner += 1\n",
    "            # This is his first time here\n",
    "            else:\n",
    "                track_start_visited = True\n",
    "                runner_last_visited = list[ runner ]\n",
    "                list[ runner ] = list [ (runner - k) % len(list) ]\n",
    "                runner_visits += 1\n",
    "                runner += k    \n",
    "        # Runner is running along on the track\n",
    "        else:\n",
    "            temp = list[runner]\n",
    "            list[runner] =  runner_last_visited\n",
    "            runner_last_visited = temp\n",
    "            runner_visits += 1\n",
    "            runner += k\n",
    "            \n",
    "    return list\n",
    "        "
   ]
  },
  {
   "cell_type": "code",
   "execution_count": 32,
   "metadata": {},
   "outputs": [
    {
     "name": "stdout",
     "output_type": "stream",
     "text": [
      "Track start 0 Track Start Visited False runner 0 runner visits 0 runner_last_visited 0\n",
      "Track start 0 Track Start Visited True runner 4 runner visits 1 runner_last_visited 1\n",
      "Track start 0 Track Start Visited True runner 0 runner visits 2 runner_last_visited 5\n",
      "Track start 1 Track Start Visited False runner 1 runner visits 2 runner_last_visited 5\n",
      "Track start 1 Track Start Visited True runner 5 runner visits 3 runner_last_visited 2\n",
      "Track start 1 Track Start Visited True runner 1 runner visits 4 runner_last_visited 6\n",
      "Track start 2 Track Start Visited False runner 2 runner visits 4 runner_last_visited 6\n",
      "Track start 2 Track Start Visited True runner 6 runner visits 5 runner_last_visited 3\n",
      "Track start 2 Track Start Visited True runner 2 runner visits 6 runner_last_visited 7\n",
      "Track start 3 Track Start Visited False runner 3 runner visits 6 runner_last_visited 7\n",
      "Track start 3 Track Start Visited True runner 7 runner visits 7 runner_last_visited 4\n",
      "[5, 6, 7, 8, 1, 2, 3, 4]\n",
      "Track start 0 Track Start Visited False runner 0 runner visits 0 runner_last_visited 0\n",
      "Track start 0 Track Start Visited True runner 5 runner visits 1 runner_last_visited 1\n",
      "Track start 0 Track Start Visited True runner 2 runner visits 2 runner_last_visited 6\n",
      "Track start 0 Track Start Visited True runner 7 runner visits 3 runner_last_visited 3\n",
      "Track start 0 Track Start Visited True runner 4 runner visits 4 runner_last_visited 8\n",
      "Track start 0 Track Start Visited True runner 1 runner visits 5 runner_last_visited 5\n",
      "Track start 0 Track Start Visited True runner 6 runner visits 6 runner_last_visited 2\n",
      "Track start 0 Track Start Visited True runner 3 runner visits 7 runner_last_visited 7\n",
      "[4, 5, 6, 7, 8, 1, 2, 3]\n",
      "Track start 0 Track Start Visited False runner 0 runner visits 0 runner_last_visited 0\n",
      "Track start 0 Track Start Visited True runner 4 runner visits 1 runner_last_visited 1\n",
      "Track start 0 Track Start Visited True runner 8 runner visits 2 runner_last_visited 5\n",
      "Track start 0 Track Start Visited True runner 3 runner visits 3 runner_last_visited 9\n",
      "Track start 0 Track Start Visited True runner 7 runner visits 4 runner_last_visited 4\n",
      "Track start 0 Track Start Visited True runner 2 runner visits 5 runner_last_visited 8\n",
      "Track start 0 Track Start Visited True runner 6 runner visits 6 runner_last_visited 3\n",
      "Track start 0 Track Start Visited True runner 1 runner visits 7 runner_last_visited 7\n",
      "Track start 0 Track Start Visited True runner 5 runner visits 8 runner_last_visited 2\n",
      "[6, 7, 8, 9, 1, 2, 3, 4, 5]\n",
      "Track start 0 Track Start Visited False runner 0 runner visits 0 runner_last_visited 0\n",
      "Track start 0 Track Start Visited True runner 5 runner visits 1 runner_last_visited 1\n",
      "Track start 0 Track Start Visited True runner 1 runner visits 2 runner_last_visited 6\n",
      "Track start 0 Track Start Visited True runner 6 runner visits 3 runner_last_visited 2\n",
      "Track start 0 Track Start Visited True runner 2 runner visits 4 runner_last_visited 7\n",
      "Track start 0 Track Start Visited True runner 7 runner visits 5 runner_last_visited 3\n",
      "Track start 0 Track Start Visited True runner 3 runner visits 6 runner_last_visited 8\n",
      "Track start 0 Track Start Visited True runner 8 runner visits 7 runner_last_visited 4\n",
      "Track start 0 Track Start Visited True runner 4 runner visits 8 runner_last_visited 9\n",
      "[5, 6, 7, 8, 9, 1, 2, 3, 4]\n"
     ]
    }
   ],
   "source": [
    "print(rotate_array([1,2,3,4,5,6,7,8],4))\n",
    "print(rotate_array([1,2,3,4,5,6,7,8],5))\n",
    "\n",
    "print(rotate_array([1,2,3,4,5,6,7,8,9],4))\n",
    "print(rotate_array([1,2,3,4,5,6,7,8,9],5))"
   ]
  },
  {
   "cell_type": "markdown",
   "metadata": {},
   "source": [
    "## LinkedList Problems\n",
    "\n",
    "### Pointers\n",
    "\n",
    "- Runner technique: p1, p2 + offset i++, pl, p2 offset++\n",
    "- Delete current node without access to prev by copying results from the next one\n",
    "- Recursion is one way to have access to the previous element\n",
    "\n",
    "### Implementation of a LinkedList"
   ]
  },
  {
   "cell_type": "code",
   "execution_count": 152,
   "metadata": {},
   "outputs": [],
   "source": [
    "class Node:\n",
    "    # Constructor for LinkedList\n",
    "    def __init__(self, payload, next=None):\n",
    "        self.payload = payload\n",
    "        self.next = next\n",
    "        \n",
    "class Linked_List:\n",
    "    # Initialize a LinkedList from a list\n",
    "    def __init__(self, payload_list):\n",
    "        node_list = [ Node( payload ) for payload in payload_list ]\n",
    "        self.root = node_list[0]\n",
    "        for i in range( len( payload_list ) - 1 ):\n",
    "            node_list[ i ].next = node_list[ i + 1 ]\n",
    "            \n",
    "    # Print list from the node\n",
    "    def print_list(self):\n",
    "        node = self.root\n",
    "        while(node is not None):\n",
    "            print( str( node.payload ) + ' --> ', end='')\n",
    "            node = node.next\n",
    "        print ( None )\n",
    "        \n",
    "    # Retrive root\n",
    "    def get_root(self):\n",
    "        return self.root"
   ]
  },
  {
   "cell_type": "markdown",
   "metadata": {},
   "source": [
    "**Tests**"
   ]
  },
  {
   "cell_type": "code",
   "execution_count": 154,
   "metadata": {},
   "outputs": [
    {
     "name": "stdout",
     "output_type": "stream",
     "text": [
      "<__main__.Node object at 0x7f4957e755c0>\n",
      "2 --> 3 --> 4 --> 5 --> None\n"
     ]
    }
   ],
   "source": [
    "print(Linked_List( ['1','2','3'] ).get_root())\n",
    "\n",
    "Linked_List( [2,3,4,5] ).print_list()"
   ]
  },
  {
   "cell_type": "markdown",
   "metadata": {},
   "source": [
    "#### 1. Remove duplicates from an unsorted LinkedList\n",
    "\n",
    "- Approaches:\n",
    "    - **Approach 1**:\n",
    "        - Remove while using a map to keep track of duplicates"
   ]
  },
  {
   "cell_type": "code",
   "execution_count": 157,
   "metadata": {},
   "outputs": [],
   "source": [
    "def unique_linked_list( ll ):\n",
    "    \n",
    "    current = l1.get_root()\n",
    "    prev = None\n",
    "    char_count = {}\n",
    "    \n",
    "    while (current is not None):\n",
    "        \n",
    "        # Delete this node\n",
    "        if ( current.payload in char_count ):\n",
    "            prev.next = current.next\n",
    "            # Don't bother to move the pointer forward\n",
    "        else:\n",
    "            # Add it to our map, in case we see this element once again\n",
    "            char_count[ current.payload ] = True\n",
    "            # Move our pointer forward\n",
    "            prev = current\n",
    "        current = current.next\n",
    "            \n",
    "        \n",
    "        \n",
    "        "
   ]
  },
  {
   "cell_type": "markdown",
   "metadata": {},
   "source": [
    "**Tests**"
   ]
  },
  {
   "cell_type": "code",
   "execution_count": 160,
   "metadata": {},
   "outputs": [
    {
     "name": "stdout",
     "output_type": "stream",
     "text": [
      "1 --> 2 --> 3 --> 4 --> 55 --> 66 --> None\n"
     ]
    }
   ],
   "source": [
    "l1 = Linked_List( [1, 2, 2, 2, 3, 4, 55, 66, 2, 4] )\n",
    "unique_linked_list(l1)\n",
    "l1.print_list()"
   ]
  },
  {
   "cell_type": "markdown",
   "metadata": {},
   "source": [
    "#### 2. Return the n-k th element\n",
    "- Approaches:\n",
    "    - Iterative approach, Start head_start_pointer with offset"
   ]
  },
  {
   "cell_type": "code",
   "execution_count": 163,
   "metadata": {},
   "outputs": [],
   "source": [
    "def find_n_minus_k_element(l1, k):\n",
    "    p1 = l1.get_root()\n",
    "    p2 = l1.get_root()\n",
    "    for _ in range( k ):\n",
    "        p2 = p2.next\n",
    "    while( p2.next is not None):\n",
    "        p1 = p1.next\n",
    "        p2 = p2.next\n",
    "    return p1"
   ]
  },
  {
   "cell_type": "markdown",
   "metadata": {},
   "source": [
    "**Tests**"
   ]
  },
  {
   "cell_type": "code",
   "execution_count": 166,
   "metadata": {},
   "outputs": [
    {
     "data": {
      "text/plain": [
       "4"
      ]
     },
     "execution_count": 166,
     "metadata": {},
     "output_type": "execute_result"
    }
   ],
   "source": [
    "l1 = Linked_List( [1, 2, 2, 2, 3, 4, 55, 66, 2, 4] )\n",
    "find_n_minus_k_element(l1, 4).payload"
   ]
  },
  {
   "cell_type": "markdown",
   "metadata": {},
   "source": [
    "## Tree Problems\n",
    "\n",
    "### Pointers\n",
    "- \n",
    "\n",
    "### Implementation of a BinaryTree"
   ]
  },
  {
   "cell_type": "code",
   "execution_count": null,
   "metadata": {},
   "outputs": [],
   "source": [
    "class Tree:\n",
    "    __init__( self, payload, left=None, right=None ):\n",
    "        self.payload = payload\n",
    "        self.left = left\n",
    "        self.right = right"
   ]
  },
  {
   "cell_type": "code",
   "execution_count": null,
   "metadata": {},
   "outputs": [],
   "source": [
    "t1 = Tree()"
   ]
  },
  {
   "cell_type": "markdown",
   "metadata": {},
   "source": [
    "#### 1. Check if val\n",
    "- Approaches:\n",
    "    - Iterative approach, Start head_start_pointer with offset"
   ]
  }
 ],
 "metadata": {
  "kernelspec": {
   "display_name": "Python 3",
   "language": "python",
   "name": "python3"
  },
  "language_info": {
   "codemirror_mode": {
    "name": "ipython",
    "version": 3
   },
   "file_extension": ".py",
   "mimetype": "text/x-python",
   "name": "python",
   "nbconvert_exporter": "python",
   "pygments_lexer": "ipython3",
   "version": "3.6.4"
  }
 },
 "nbformat": 4,
 "nbformat_minor": 2
}
